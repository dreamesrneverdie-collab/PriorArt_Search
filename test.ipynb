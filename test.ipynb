{
 "cells": [
  {
   "cell_type": "code",
   "execution_count": null,
   "id": "ad3759dd",
   "metadata": {},
   "outputs": [],
   "source": [
    "import requests\n",
    "from bs4 import BeautifulSoup\n",
    "\n",
    "def get_synonyms(word):\n",
    "    url = f\"https://www.thesaurus.com/browse/{word}\"\n",
    "    headers = {\n",
    "        \"User-Agent\": \"Mozilla/5.0\"\n",
    "    }\n",
    "    response = requests.get(url, headers=headers)\n",
    "\n",
    "    if response.status_code != 200:\n",
    "        print(\"Không truy cập được trang!\")\n",
    "        return []\n",
    "\n",
    "    soup = BeautifulSoup(response.text, \"html.parser\")\n",
    "\n",
    "    # Các synonyms nằm trong thẻ <a> có data-testid=\"synonym-link\"\n",
    "    synonym_tags = soup.find_all(\"a\", {\"data-testid\": \"synonym-link\"})\n",
    "    synonyms = [tag.text.strip() for tag in synonym_tags]\n",
    "\n",
    "    return synonyms\n",
    "\n",
    "# Ví dụ\n",
    "word = \"happy\"\n",
    "synonyms = get_synonyms(word)\n",
    "print(f\"Synonyms của '{word}':\", synonyms)\n"
   ]
  },
  {
   "cell_type": "code",
   "execution_count": 2,
   "id": "190d8f2d",
   "metadata": {},
   "outputs": [],
   "source": [
    "import requests\n",
    "from bs4 import BeautifulSoup"
   ]
  },
  {
   "cell_type": "code",
   "execution_count": 30,
   "id": "0419db46",
   "metadata": {},
   "outputs": [],
   "source": [
    "word = \"watch\"\n",
    "url = f\"https://www.thesaurus.com/browse/{word}\"\n",
    "headers = {\n",
    "    \"User-Agent\": \"Mozilla/5.0\"\n",
    "}\n",
    "response = requests.get(url, headers=headers)\n",
    "\n",
    "if response.status_code != 200:\n",
    "    print(\"Không truy cập được trang!\")\n",
    "\n",
    "soup = BeautifulSoup(response.text, \"html.parser\")\n"
   ]
  },
  {
   "cell_type": "code",
   "execution_count": 8,
   "id": "9a66ee1a",
   "metadata": {},
   "outputs": [
    {
     "data": {
      "text/plain": [
       "[<div class=\"tU3uvmy24AcyNXg1gHwf\" data-type=\"synonym-and-antonym-card\"><div class=\"MzPkuB_wA1zt60pMer_S\"><p id=\"clock-worn-on-body\">noun  <span>as in <strong>clock worn on body</strong></span></p></div><div class=\"flol7HNuPRe9VfZ0KeMZ\"><div class=\"oOnFOSBCRzBqsYUOwnk4\"><button class=\"ZIu4Pmp_JmWEfr4WEkmw rXhgGek5ucMOQ0I0J3pa\" data-analytics=\"aa-track\" data-linklocation=\"body\" data-linkmodule=\"synonym-module\" data-linkname=\"synonyms:watch\" data-linktype=\"synonyms\" data-linkurl=\"browse/watch\" tabindex=\"-1\">Synonyms</button></div><div class=\"QXhVD4zXdAnJKNytqXmK\"><div class=\"fltPJVdHfRCxJJVuGX8J\"><p class=\"wRiDLzD17ooqYbL7AewD\">Strongest matches</p><p class=\"U0upYYdkCP4fWHhHZcgE\"><span><a class=\"Bf5RRqL5MiAp4gB8wAZa\" href=\"https://www.thesaurus.com/browse/timepiece\">timepiece</a>, </span><span><a class=\"Bf5RRqL5MiAp4gB8wAZa\" href=\"https://www.thesaurus.com/browse/wristwatch\">wristwatch</a></span></p></div><div class=\"fltPJVdHfRCxJJVuGX8J\"><p class=\"wRiDLzD17ooqYbL7AewD\">Strong matches</p><p class=\"U0upYYdkCP4fWHhHZcgE\"><span><a class=\"CPTwwN0qNO__USQgCKp8\" href=\"https://www.thesaurus.com/browse/chronometer\">chronometer</a>, </span><span><a class=\"CPTwwN0qNO__USQgCKp8\" href=\"https://www.thesaurus.com/browse/stopwatch\">stopwatch</a>, </span><span><a class=\"CPTwwN0qNO__USQgCKp8\" href=\"https://www.thesaurus.com/browse/ticker\">ticker</a>, </span><span><a class=\"CPTwwN0qNO__USQgCKp8\" href=\"https://www.thesaurus.com/browse/timer\">timer</a></span></p></div><div class=\"fltPJVdHfRCxJJVuGX8J\"><p class=\"wRiDLzD17ooqYbL7AewD\">Weak matches</p><p class=\"U0upYYdkCP4fWHhHZcgE\"><span><a class=\"u7owlPWJz16NbHjXogfX\" href=\"https://www.thesaurus.com/browse/analog-watch\">analog watch</a>, </span><span><a class=\"u7owlPWJz16NbHjXogfX\" href=\"https://www.thesaurus.com/browse/digital-watch\">digital watch</a>, </span><span><a class=\"u7owlPWJz16NbHjXogfX\" href=\"https://www.thesaurus.com/browse/pocket-watch\">pocket watch</a></span></p></div></div></div></div>,\n",
       " <div class=\"tU3uvmy24AcyNXg1gHwf\" data-type=\"synonym-and-antonym-card\"><div class=\"MzPkuB_wA1zt60pMer_S\"><p id=\"lookout\">noun  <span>as in <strong>lookout</strong></span></p></div><div class=\"flol7HNuPRe9VfZ0KeMZ\"><div class=\"oOnFOSBCRzBqsYUOwnk4\"><button class=\"ZIu4Pmp_JmWEfr4WEkmw rXhgGek5ucMOQ0I0J3pa\" data-analytics=\"aa-track\" data-linklocation=\"body\" data-linkmodule=\"synonym-module\" data-linkname=\"synonyms:watch\" data-linktype=\"synonyms\" data-linkurl=\"browse/watch\" tabindex=\"-1\">Synonyms</button><button class=\"ZIu4Pmp_JmWEfr4WEkmw\" data-analytics=\"aa-track\" data-linklocation=\"body\" data-linkmodule=\"antonym-module\" data-linkname=\"antonyms:watch\" data-linktype=\"antonyms\" data-linkurl=\"browse/watch\" tabindex=\"0\">Antonyms</button></div><div class=\"QXhVD4zXdAnJKNytqXmK\"><div class=\"fltPJVdHfRCxJJVuGX8J\"><p class=\"wRiDLzD17ooqYbL7AewD\">Strong matches</p><p class=\"U0upYYdkCP4fWHhHZcgE\"><span><a class=\"CPTwwN0qNO__USQgCKp8\" href=\"https://www.thesaurus.com/browse/alertness\">alertness</a>, </span><span><a class=\"CPTwwN0qNO__USQgCKp8\" href=\"https://www.thesaurus.com/browse/attention\">attention</a>, </span><span><a class=\"CPTwwN0qNO__USQgCKp8\" href=\"https://www.thesaurus.com/browse/awareness\">awareness</a>, </span><span><a class=\"CPTwwN0qNO__USQgCKp8\" href=\"https://www.thesaurus.com/browse/duty\">duty</a>, </span><span><a class=\"CPTwwN0qNO__USQgCKp8\" href=\"https://www.thesaurus.com/browse/eye\">eye</a>, </span><span><a class=\"CPTwwN0qNO__USQgCKp8\" href=\"https://www.thesaurus.com/browse/guard\">guard</a>, </span><span><a class=\"CPTwwN0qNO__USQgCKp8\" href=\"https://www.thesaurus.com/browse/hawk\">hawk</a>, </span><span><a class=\"CPTwwN0qNO__USQgCKp8\" href=\"https://www.thesaurus.com/browse/heed\">heed</a>, </span><span><a class=\"CPTwwN0qNO__USQgCKp8\" href=\"https://www.thesaurus.com/browse/inspection\">inspection</a>, </span><span><a class=\"CPTwwN0qNO__USQgCKp8\" href=\"https://www.thesaurus.com/browse/notice\">notice</a>, </span><span><a class=\"CPTwwN0qNO__USQgCKp8\" href=\"https://www.thesaurus.com/browse/observance\">observance</a>, </span><span><a class=\"CPTwwN0qNO__USQgCKp8\" href=\"https://www.thesaurus.com/browse/observation\">observation</a>, </span><span><a class=\"CPTwwN0qNO__USQgCKp8\" href=\"https://www.thesaurus.com/browse/patrol\">patrol</a>, </span><span><a class=\"CPTwwN0qNO__USQgCKp8\" href=\"https://www.thesaurus.com/browse/picket\">picket</a>, </span><span><a class=\"CPTwwN0qNO__USQgCKp8\" href=\"https://www.thesaurus.com/browse/scrutiny\">scrutiny</a>, </span><span><a class=\"CPTwwN0qNO__USQgCKp8\" href=\"https://www.thesaurus.com/browse/sentinel\">sentinel</a>, </span><span><a class=\"CPTwwN0qNO__USQgCKp8\" href=\"https://www.thesaurus.com/browse/sentry\">sentry</a>, </span><span><a class=\"CPTwwN0qNO__USQgCKp8\" href=\"https://www.thesaurus.com/browse/supervision\">supervision</a>, </span><span><a class=\"CPTwwN0qNO__USQgCKp8\" href=\"https://www.thesaurus.com/browse/surveillance\">surveillance</a>, </span><span><a class=\"CPTwwN0qNO__USQgCKp8\" href=\"https://www.thesaurus.com/browse/tab\">tab</a>, </span><span><a class=\"CPTwwN0qNO__USQgCKp8\" href=\"https://www.thesaurus.com/browse/tout\">tout</a>, </span><span><a class=\"CPTwwN0qNO__USQgCKp8\" href=\"https://www.thesaurus.com/browse/vigil\">vigil</a>, </span><span><a class=\"CPTwwN0qNO__USQgCKp8\" href=\"https://www.thesaurus.com/browse/vigilance\">vigilance</a>, </span><span><a class=\"CPTwwN0qNO__USQgCKp8\" href=\"https://www.thesaurus.com/browse/watchfulness\">watchfulness</a></span></p></div><div class=\"fltPJVdHfRCxJJVuGX8J\"><p class=\"wRiDLzD17ooqYbL7AewD\">Weak matches</p><p class=\"U0upYYdkCP4fWHhHZcgE\"><span><a class=\"u7owlPWJz16NbHjXogfX\" href=\"https://www.thesaurus.com/browse/eagle-eye\">eagle eye</a>, </span><span><a class=\"u7owlPWJz16NbHjXogfX\" href=\"https://www.thesaurus.com/browse/weather-eye\">weather eye</a></span></p></div></div></div></div>,\n",
       " <div class=\"tU3uvmy24AcyNXg1gHwf\" data-type=\"synonym-and-antonym-card\"><div class=\"MzPkuB_wA1zt60pMer_S\"><p id=\"look-at\">verb  <span>as in <strong>look at</strong></span></p></div><div class=\"flol7HNuPRe9VfZ0KeMZ\"><div class=\"oOnFOSBCRzBqsYUOwnk4\"><button class=\"ZIu4Pmp_JmWEfr4WEkmw rXhgGek5ucMOQ0I0J3pa\" data-analytics=\"aa-track\" data-linklocation=\"body\" data-linkmodule=\"synonym-module\" data-linkname=\"synonyms:watch\" data-linktype=\"synonyms\" data-linkurl=\"browse/watch\" tabindex=\"-1\">Synonyms</button><button class=\"ZIu4Pmp_JmWEfr4WEkmw\" data-analytics=\"aa-track\" data-linklocation=\"body\" data-linkmodule=\"antonym-module\" data-linkname=\"antonyms:watch\" data-linktype=\"antonyms\" data-linkurl=\"browse/watch\" tabindex=\"0\">Antonyms</button></div><div class=\"QXhVD4zXdAnJKNytqXmK\"><div class=\"fltPJVdHfRCxJJVuGX8J\"><p class=\"wRiDLzD17ooqYbL7AewD\">Strongest matches</p><p class=\"U0upYYdkCP4fWHhHZcgE\"><span><a class=\"Bf5RRqL5MiAp4gB8wAZa\" href=\"https://www.thesaurus.com/browse/attend\">attend</a>, </span><span><a class=\"Bf5RRqL5MiAp4gB8wAZa\" href=\"https://www.thesaurus.com/browse/check-out\">check out</a>, </span><span><a class=\"Bf5RRqL5MiAp4gB8wAZa\" href=\"https://www.thesaurus.com/browse/examine\">examine</a>, </span><span><a class=\"Bf5RRqL5MiAp4gB8wAZa\" href=\"https://www.thesaurus.com/browse/follow\">follow</a>, </span><span><a class=\"Bf5RRqL5MiAp4gB8wAZa\" href=\"https://www.thesaurus.com/browse/listen\">listen</a>, </span><span><a class=\"Bf5RRqL5MiAp4gB8wAZa\" href=\"https://www.thesaurus.com/browse/look\">look</a>, </span><span><a class=\"Bf5RRqL5MiAp4gB8wAZa\" href=\"https://www.thesaurus.com/browse/observe\">observe</a>, </span><span><a class=\"Bf5RRqL5MiAp4gB8wAZa\" href=\"https://www.thesaurus.com/browse/regard\">regard</a>, </span><span><a class=\"Bf5RRqL5MiAp4gB8wAZa\" href=\"https://www.thesaurus.com/browse/scan\">scan</a>, </span><span><a class=\"Bf5RRqL5MiAp4gB8wAZa\" href=\"https://www.thesaurus.com/browse/scrutinize\">scrutinize</a>, </span><span><a class=\"Bf5RRqL5MiAp4gB8wAZa\" href=\"https://www.thesaurus.com/browse/see\">see</a>, </span><span><a class=\"Bf5RRqL5MiAp4gB8wAZa\" href=\"https://www.thesaurus.com/browse/stare\">stare</a>, </span><span><a class=\"Bf5RRqL5MiAp4gB8wAZa\" href=\"https://www.thesaurus.com/browse/view\">view</a>, </span><span><a class=\"Bf5RRqL5MiAp4gB8wAZa\" href=\"https://www.thesaurus.com/browse/wait\">wait</a></span></p></div><div class=\"fltPJVdHfRCxJJVuGX8J\"><p class=\"wRiDLzD17ooqYbL7AewD\">Strong matches</p><p class=\"U0upYYdkCP4fWHhHZcgE\"><span><a class=\"CPTwwN0qNO__USQgCKp8\" href=\"https://www.thesaurus.com/browse/case\">case</a>, </span><span><a class=\"CPTwwN0qNO__USQgCKp8\" href=\"https://www.thesaurus.com/browse/concentrate\">concentrate</a>, </span><span><a class=\"CPTwwN0qNO__USQgCKp8\" href=\"https://www.thesaurus.com/browse/contemplate\">contemplate</a>, </span><span><a class=\"CPTwwN0qNO__USQgCKp8\" href=\"https://www.thesaurus.com/browse/eye\">eye</a>, </span><span><a class=\"CPTwwN0qNO__USQgCKp8\" href=\"https://www.thesaurus.com/browse/eyeball\">eyeball</a>, </span><span><a class=\"CPTwwN0qNO__USQgCKp8\" href=\"https://www.thesaurus.com/browse/focus\">focus</a>, </span><span><a class=\"CPTwwN0qNO__USQgCKp8\" href=\"https://www.thesaurus.com/browse/gaze\">gaze</a>, </span><span><a class=\"CPTwwN0qNO__USQgCKp8\" href=\"https://www.thesaurus.com/browse/inspect\">inspect</a>, </span><span><a class=\"CPTwwN0qNO__USQgCKp8\" href=\"https://www.thesaurus.com/browse/mark\">mark</a>, </span><span><a class=\"CPTwwN0qNO__USQgCKp8\" href=\"https://www.thesaurus.com/browse/mind\">mind</a>, </span><span><a class=\"CPTwwN0qNO__USQgCKp8\" href=\"https://www.thesaurus.com/browse/note\">note</a>, </span><span><a class=\"CPTwwN0qNO__USQgCKp8\" href=\"https://www.thesaurus.com/browse/peer\">peer</a>, </span><span><a class=\"CPTwwN0qNO__USQgCKp8\" href=\"https://www.thesaurus.com/browse/pipe\">pipe</a>, </span><span><a class=\"CPTwwN0qNO__USQgCKp8\" href=\"https://www.thesaurus.com/browse/rubberneck\">rubberneck</a>, </span><span><a class=\"CPTwwN0qNO__USQgCKp8\" href=\"https://www.thesaurus.com/browse/scope\">scope</a>, </span><span><a class=\"CPTwwN0qNO__USQgCKp8\" href=\"https://www.thesaurus.com/browse/spy\">spy</a></span></p></div><div class=\"fltPJVdHfRCxJJVuGX8J\"><p class=\"wRiDLzD17ooqYbL7AewD\">Weak matches</p><p class=\"U0upYYdkCP4fWHhHZcgE\"><span><a class=\"u7owlPWJz16NbHjXogfX\" href=\"https://www.thesaurus.com/browse/eagle-eye\">eagle eye</a>, </span><span><a class=\"u7owlPWJz16NbHjXogfX\" href=\"https://www.thesaurus.com/browse/get-a-load-of\">get a load of</a>, </span><span><a class=\"u7owlPWJz16NbHjXogfX\" href=\"https://www.thesaurus.com/browse/give-the-once-over\">give the once-over</a>, </span><span><a class=\"u7owlPWJz16NbHjXogfX\" href=\"https://www.thesaurus.com/browse/have-a-look-see\">have a look-see</a>, </span><span><a class=\"u7owlPWJz16NbHjXogfX\" href=\"https://www.thesaurus.com/browse/keep-tabs-on\">keep tabs on</a>, </span><span><a class=\"u7owlPWJz16NbHjXogfX\" href=\"https://www.thesaurus.com/browse/pay-attention\">pay attention</a>, </span><span><a class=\"u7owlPWJz16NbHjXogfX\" href=\"https://www.thesaurus.com/browse/take-a-gander\">take a gander</a>, </span><span><a class=\"u7owlPWJz16NbHjXogfX\" href=\"https://www.thesaurus.com/browse/take-in\">take in</a>, </span><span><a class=\"u7owlPWJz16NbHjXogfX\" href=\"https://www.thesaurus.com/browse/take-notice\">take notice</a></span></p></div></div></div></div>,\n",
       " <div class=\"tU3uvmy24AcyNXg1gHwf\" data-type=\"synonym-and-antonym-card\"><div class=\"MzPkuB_wA1zt60pMer_S\"><p id=\"look-after-guard\">verb  <span>as in <strong>look after; guard</strong></span></p></div><div class=\"flol7HNuPRe9VfZ0KeMZ\"><div class=\"oOnFOSBCRzBqsYUOwnk4\"><button class=\"ZIu4Pmp_JmWEfr4WEkmw rXhgGek5ucMOQ0I0J3pa\" data-analytics=\"aa-track\" data-linklocation=\"body\" data-linkmodule=\"synonym-module\" data-linkname=\"synonyms:watch\" data-linktype=\"synonyms\" data-linkurl=\"browse/watch\" tabindex=\"-1\">Synonyms</button><button class=\"ZIu4Pmp_JmWEfr4WEkmw\" data-analytics=\"aa-track\" data-linklocation=\"body\" data-linkmodule=\"antonym-module\" data-linkname=\"antonyms:watch\" data-linktype=\"antonyms\" data-linkurl=\"browse/watch\" tabindex=\"0\">Antonyms</button></div><div class=\"QXhVD4zXdAnJKNytqXmK\"><div class=\"fltPJVdHfRCxJJVuGX8J\"><p class=\"wRiDLzD17ooqYbL7AewD\">Strongest matches</p><p class=\"U0upYYdkCP4fWHhHZcgE\"><span><a class=\"Bf5RRqL5MiAp4gB8wAZa\" href=\"https://www.thesaurus.com/browse/attend\">attend</a>, </span><span><a class=\"Bf5RRqL5MiAp4gB8wAZa\" href=\"https://www.thesaurus.com/browse/guard\">guard</a>, </span><span><a class=\"Bf5RRqL5MiAp4gB8wAZa\" href=\"https://www.thesaurus.com/browse/protect\">protect</a>, </span><span><a class=\"Bf5RRqL5MiAp4gB8wAZa\" href=\"https://www.thesaurus.com/browse/take-care-of\">take care of</a>, </span><span><a class=\"Bf5RRqL5MiAp4gB8wAZa\" href=\"https://www.thesaurus.com/browse/wait\">wait</a></span></p></div><div class=\"fltPJVdHfRCxJJVuGX8J\"><p class=\"wRiDLzD17ooqYbL7AewD\">Strong matches</p><p class=\"U0upYYdkCP4fWHhHZcgE\"><span><a class=\"CPTwwN0qNO__USQgCKp8\" href=\"https://www.thesaurus.com/browse/mind\">mind</a>, </span><span><a class=\"CPTwwN0qNO__USQgCKp8\" href=\"https://www.thesaurus.com/browse/oversee\">oversee</a>, </span><span><a class=\"CPTwwN0qNO__USQgCKp8\" href=\"https://www.thesaurus.com/browse/patrol\">patrol</a>, </span><span><a class=\"CPTwwN0qNO__USQgCKp8\" href=\"https://www.thesaurus.com/browse/police\">police</a>, </span><span><a class=\"CPTwwN0qNO__USQgCKp8\" href=\"https://www.thesaurus.com/browse/superintend\">superintend</a>, </span><span><a class=\"CPTwwN0qNO__USQgCKp8\" href=\"https://www.thesaurus.com/browse/tend\">tend</a>, </span><span><a class=\"CPTwwN0qNO__USQgCKp8\" href=\"https://www.thesaurus.com/browse/watch-over\">watch over</a></span></p></div><div class=\"fltPJVdHfRCxJJVuGX8J\"><p class=\"wRiDLzD17ooqYbL7AewD\">Weak matches</p><p class=\"U0upYYdkCP4fWHhHZcgE\"><span><a class=\"u7owlPWJz16NbHjXogfX\" href=\"https://www.thesaurus.com/browse/be-on-alert\">be on alert</a>, </span><span><a class=\"u7owlPWJz16NbHjXogfX\" href=\"https://www.thesaurus.com/browse/be-on-the-lookout\">be on the lookout</a>, </span><span><a class=\"u7owlPWJz16NbHjXogfX\" href=\"https://www.thesaurus.com/browse/be-vigilant\">be vigilant</a>, </span><span><a class=\"u7owlPWJz16NbHjXogfX\" href=\"https://www.thesaurus.com/browse/be-wary\">be wary</a>, </span><span><a class=\"u7owlPWJz16NbHjXogfX\" href=\"https://www.thesaurus.com/browse/be-watchful\">be watchful</a>, </span><span><a class=\"u7owlPWJz16NbHjXogfX\" href=\"https://www.thesaurus.com/browse/care-for\">care for</a>, </span><span><a class=\"u7owlPWJz16NbHjXogfX\" href=\"https://www.thesaurus.com/browse/keep-an-eye-on\">keep an eye on</a>, </span><span><a class=\"u7owlPWJz16NbHjXogfX\" href=\"https://www.thesaurus.com/browse/keep-eyes-open\">keep eyes open</a>, </span><span><a class=\"u7owlPWJz16NbHjXogfX\" href=\"https://www.thesaurus.com/browse/keep-eyes-peeled\">keep eyes peeled</a>, </span><span><a class=\"u7owlPWJz16NbHjXogfX\" href=\"https://www.thesaurus.com/browse/keep-watch-over\">keep watch over</a>, </span><span><a class=\"u7owlPWJz16NbHjXogfX\" href=\"https://www.thesaurus.com/browse/look-after\">look after</a>, </span><span><a class=\"u7owlPWJz16NbHjXogfX\" href=\"https://www.thesaurus.com/browse/look-out\">look out</a>, </span><span><a class=\"u7owlPWJz16NbHjXogfX\" href=\"https://www.thesaurus.com/browse/pick-up-on\">pick up on</a>, </span><span><a class=\"u7owlPWJz16NbHjXogfX\" href=\"https://www.thesaurus.com/browse/ride-shotgun-for\">ride shotgun for</a>, </span><span><a class=\"u7owlPWJz16NbHjXogfX\" href=\"https://www.thesaurus.com/browse/take-heed\">take heed</a></span></p></div></div></div></div>]"
      ]
     },
     "execution_count": 8,
     "metadata": {},
     "output_type": "execute_result"
    }
   ],
   "source": [
    "links = soup.select(\"div.tU3uvmy24AcyNXg1gHwf\")\n",
    "links"
   ]
  },
  {
   "cell_type": "code",
   "execution_count": 49,
   "id": "04b85319",
   "metadata": {},
   "outputs": [
    {
     "name": "stdout",
     "output_type": "stream",
     "text": [
      "noun  as in clock worn on body\n",
      "noun  as in lookout\n",
      "verb  as in look at\n",
      "verb  as in look after; guard\n"
     ]
    }
   ],
   "source": [
    "for link in links:\n",
    "    print(link.select(\"div.MzPkuB_wA1zt60pMer_S p\")[0].get_text())"
   ]
  },
  {
   "cell_type": "code",
   "execution_count": 56,
   "id": "be2de9f2",
   "metadata": {},
   "outputs": [
    {
     "data": {
      "text/plain": [
       "[<div class=\"QXhVD4zXdAnJKNytqXmK\"><div class=\"fltPJVdHfRCxJJVuGX8J\"><p class=\"wRiDLzD17ooqYbL7AewD\">Strongest matches</p><p class=\"U0upYYdkCP4fWHhHZcgE\"><span><a class=\"Bf5RRqL5MiAp4gB8wAZa\" href=\"https://www.thesaurus.com/browse/timepiece\">timepiece</a>, </span><span><a class=\"Bf5RRqL5MiAp4gB8wAZa\" href=\"https://www.thesaurus.com/browse/wristwatch\">wristwatch</a></span></p></div><div class=\"fltPJVdHfRCxJJVuGX8J\"><p class=\"wRiDLzD17ooqYbL7AewD\">Strong matches</p><p class=\"U0upYYdkCP4fWHhHZcgE\"><span><a class=\"CPTwwN0qNO__USQgCKp8\" href=\"https://www.thesaurus.com/browse/chronometer\">chronometer</a>, </span><span><a class=\"CPTwwN0qNO__USQgCKp8\" href=\"https://www.thesaurus.com/browse/stopwatch\">stopwatch</a>, </span><span><a class=\"CPTwwN0qNO__USQgCKp8\" href=\"https://www.thesaurus.com/browse/ticker\">ticker</a>, </span><span><a class=\"CPTwwN0qNO__USQgCKp8\" href=\"https://www.thesaurus.com/browse/timer\">timer</a></span></p></div><div class=\"fltPJVdHfRCxJJVuGX8J\"><p class=\"wRiDLzD17ooqYbL7AewD\">Weak matches</p><p class=\"U0upYYdkCP4fWHhHZcgE\"><span><a class=\"u7owlPWJz16NbHjXogfX\" href=\"https://www.thesaurus.com/browse/analog-watch\">analog watch</a>, </span><span><a class=\"u7owlPWJz16NbHjXogfX\" href=\"https://www.thesaurus.com/browse/digital-watch\">digital watch</a>, </span><span><a class=\"u7owlPWJz16NbHjXogfX\" href=\"https://www.thesaurus.com/browse/pocket-watch\">pocket watch</a></span></p></div></div>,\n",
       " <div class=\"QXhVD4zXdAnJKNytqXmK\"><div class=\"fltPJVdHfRCxJJVuGX8J\"><p class=\"wRiDLzD17ooqYbL7AewD\">Strong matches</p><p class=\"U0upYYdkCP4fWHhHZcgE\"><span><a class=\"CPTwwN0qNO__USQgCKp8\" href=\"https://www.thesaurus.com/browse/alertness\">alertness</a>, </span><span><a class=\"CPTwwN0qNO__USQgCKp8\" href=\"https://www.thesaurus.com/browse/attention\">attention</a>, </span><span><a class=\"CPTwwN0qNO__USQgCKp8\" href=\"https://www.thesaurus.com/browse/awareness\">awareness</a>, </span><span><a class=\"CPTwwN0qNO__USQgCKp8\" href=\"https://www.thesaurus.com/browse/duty\">duty</a>, </span><span><a class=\"CPTwwN0qNO__USQgCKp8\" href=\"https://www.thesaurus.com/browse/eye\">eye</a>, </span><span><a class=\"CPTwwN0qNO__USQgCKp8\" href=\"https://www.thesaurus.com/browse/guard\">guard</a>, </span><span><a class=\"CPTwwN0qNO__USQgCKp8\" href=\"https://www.thesaurus.com/browse/hawk\">hawk</a>, </span><span><a class=\"CPTwwN0qNO__USQgCKp8\" href=\"https://www.thesaurus.com/browse/heed\">heed</a>, </span><span><a class=\"CPTwwN0qNO__USQgCKp8\" href=\"https://www.thesaurus.com/browse/inspection\">inspection</a>, </span><span><a class=\"CPTwwN0qNO__USQgCKp8\" href=\"https://www.thesaurus.com/browse/notice\">notice</a>, </span><span><a class=\"CPTwwN0qNO__USQgCKp8\" href=\"https://www.thesaurus.com/browse/observance\">observance</a>, </span><span><a class=\"CPTwwN0qNO__USQgCKp8\" href=\"https://www.thesaurus.com/browse/observation\">observation</a>, </span><span><a class=\"CPTwwN0qNO__USQgCKp8\" href=\"https://www.thesaurus.com/browse/patrol\">patrol</a>, </span><span><a class=\"CPTwwN0qNO__USQgCKp8\" href=\"https://www.thesaurus.com/browse/picket\">picket</a>, </span><span><a class=\"CPTwwN0qNO__USQgCKp8\" href=\"https://www.thesaurus.com/browse/scrutiny\">scrutiny</a>, </span><span><a class=\"CPTwwN0qNO__USQgCKp8\" href=\"https://www.thesaurus.com/browse/sentinel\">sentinel</a>, </span><span><a class=\"CPTwwN0qNO__USQgCKp8\" href=\"https://www.thesaurus.com/browse/sentry\">sentry</a>, </span><span><a class=\"CPTwwN0qNO__USQgCKp8\" href=\"https://www.thesaurus.com/browse/supervision\">supervision</a>, </span><span><a class=\"CPTwwN0qNO__USQgCKp8\" href=\"https://www.thesaurus.com/browse/surveillance\">surveillance</a>, </span><span><a class=\"CPTwwN0qNO__USQgCKp8\" href=\"https://www.thesaurus.com/browse/tab\">tab</a>, </span><span><a class=\"CPTwwN0qNO__USQgCKp8\" href=\"https://www.thesaurus.com/browse/tout\">tout</a>, </span><span><a class=\"CPTwwN0qNO__USQgCKp8\" href=\"https://www.thesaurus.com/browse/vigil\">vigil</a>, </span><span><a class=\"CPTwwN0qNO__USQgCKp8\" href=\"https://www.thesaurus.com/browse/vigilance\">vigilance</a>, </span><span><a class=\"CPTwwN0qNO__USQgCKp8\" href=\"https://www.thesaurus.com/browse/watchfulness\">watchfulness</a></span></p></div><div class=\"fltPJVdHfRCxJJVuGX8J\"><p class=\"wRiDLzD17ooqYbL7AewD\">Weak matches</p><p class=\"U0upYYdkCP4fWHhHZcgE\"><span><a class=\"u7owlPWJz16NbHjXogfX\" href=\"https://www.thesaurus.com/browse/eagle-eye\">eagle eye</a>, </span><span><a class=\"u7owlPWJz16NbHjXogfX\" href=\"https://www.thesaurus.com/browse/weather-eye\">weather eye</a></span></p></div></div>,\n",
       " <div class=\"QXhVD4zXdAnJKNytqXmK\"><div class=\"fltPJVdHfRCxJJVuGX8J\"><p class=\"wRiDLzD17ooqYbL7AewD\">Strongest matches</p><p class=\"U0upYYdkCP4fWHhHZcgE\"><span><a class=\"Bf5RRqL5MiAp4gB8wAZa\" href=\"https://www.thesaurus.com/browse/attend\">attend</a>, </span><span><a class=\"Bf5RRqL5MiAp4gB8wAZa\" href=\"https://www.thesaurus.com/browse/check-out\">check out</a>, </span><span><a class=\"Bf5RRqL5MiAp4gB8wAZa\" href=\"https://www.thesaurus.com/browse/examine\">examine</a>, </span><span><a class=\"Bf5RRqL5MiAp4gB8wAZa\" href=\"https://www.thesaurus.com/browse/follow\">follow</a>, </span><span><a class=\"Bf5RRqL5MiAp4gB8wAZa\" href=\"https://www.thesaurus.com/browse/listen\">listen</a>, </span><span><a class=\"Bf5RRqL5MiAp4gB8wAZa\" href=\"https://www.thesaurus.com/browse/look\">look</a>, </span><span><a class=\"Bf5RRqL5MiAp4gB8wAZa\" href=\"https://www.thesaurus.com/browse/observe\">observe</a>, </span><span><a class=\"Bf5RRqL5MiAp4gB8wAZa\" href=\"https://www.thesaurus.com/browse/regard\">regard</a>, </span><span><a class=\"Bf5RRqL5MiAp4gB8wAZa\" href=\"https://www.thesaurus.com/browse/scan\">scan</a>, </span><span><a class=\"Bf5RRqL5MiAp4gB8wAZa\" href=\"https://www.thesaurus.com/browse/scrutinize\">scrutinize</a>, </span><span><a class=\"Bf5RRqL5MiAp4gB8wAZa\" href=\"https://www.thesaurus.com/browse/see\">see</a>, </span><span><a class=\"Bf5RRqL5MiAp4gB8wAZa\" href=\"https://www.thesaurus.com/browse/stare\">stare</a>, </span><span><a class=\"Bf5RRqL5MiAp4gB8wAZa\" href=\"https://www.thesaurus.com/browse/view\">view</a>, </span><span><a class=\"Bf5RRqL5MiAp4gB8wAZa\" href=\"https://www.thesaurus.com/browse/wait\">wait</a></span></p></div><div class=\"fltPJVdHfRCxJJVuGX8J\"><p class=\"wRiDLzD17ooqYbL7AewD\">Strong matches</p><p class=\"U0upYYdkCP4fWHhHZcgE\"><span><a class=\"CPTwwN0qNO__USQgCKp8\" href=\"https://www.thesaurus.com/browse/case\">case</a>, </span><span><a class=\"CPTwwN0qNO__USQgCKp8\" href=\"https://www.thesaurus.com/browse/concentrate\">concentrate</a>, </span><span><a class=\"CPTwwN0qNO__USQgCKp8\" href=\"https://www.thesaurus.com/browse/contemplate\">contemplate</a>, </span><span><a class=\"CPTwwN0qNO__USQgCKp8\" href=\"https://www.thesaurus.com/browse/eye\">eye</a>, </span><span><a class=\"CPTwwN0qNO__USQgCKp8\" href=\"https://www.thesaurus.com/browse/eyeball\">eyeball</a>, </span><span><a class=\"CPTwwN0qNO__USQgCKp8\" href=\"https://www.thesaurus.com/browse/focus\">focus</a>, </span><span><a class=\"CPTwwN0qNO__USQgCKp8\" href=\"https://www.thesaurus.com/browse/gaze\">gaze</a>, </span><span><a class=\"CPTwwN0qNO__USQgCKp8\" href=\"https://www.thesaurus.com/browse/inspect\">inspect</a>, </span><span><a class=\"CPTwwN0qNO__USQgCKp8\" href=\"https://www.thesaurus.com/browse/mark\">mark</a>, </span><span><a class=\"CPTwwN0qNO__USQgCKp8\" href=\"https://www.thesaurus.com/browse/mind\">mind</a>, </span><span><a class=\"CPTwwN0qNO__USQgCKp8\" href=\"https://www.thesaurus.com/browse/note\">note</a>, </span><span><a class=\"CPTwwN0qNO__USQgCKp8\" href=\"https://www.thesaurus.com/browse/peer\">peer</a>, </span><span><a class=\"CPTwwN0qNO__USQgCKp8\" href=\"https://www.thesaurus.com/browse/pipe\">pipe</a>, </span><span><a class=\"CPTwwN0qNO__USQgCKp8\" href=\"https://www.thesaurus.com/browse/rubberneck\">rubberneck</a>, </span><span><a class=\"CPTwwN0qNO__USQgCKp8\" href=\"https://www.thesaurus.com/browse/scope\">scope</a>, </span><span><a class=\"CPTwwN0qNO__USQgCKp8\" href=\"https://www.thesaurus.com/browse/spy\">spy</a></span></p></div><div class=\"fltPJVdHfRCxJJVuGX8J\"><p class=\"wRiDLzD17ooqYbL7AewD\">Weak matches</p><p class=\"U0upYYdkCP4fWHhHZcgE\"><span><a class=\"u7owlPWJz16NbHjXogfX\" href=\"https://www.thesaurus.com/browse/eagle-eye\">eagle eye</a>, </span><span><a class=\"u7owlPWJz16NbHjXogfX\" href=\"https://www.thesaurus.com/browse/get-a-load-of\">get a load of</a>, </span><span><a class=\"u7owlPWJz16NbHjXogfX\" href=\"https://www.thesaurus.com/browse/give-the-once-over\">give the once-over</a>, </span><span><a class=\"u7owlPWJz16NbHjXogfX\" href=\"https://www.thesaurus.com/browse/have-a-look-see\">have a look-see</a>, </span><span><a class=\"u7owlPWJz16NbHjXogfX\" href=\"https://www.thesaurus.com/browse/keep-tabs-on\">keep tabs on</a>, </span><span><a class=\"u7owlPWJz16NbHjXogfX\" href=\"https://www.thesaurus.com/browse/pay-attention\">pay attention</a>, </span><span><a class=\"u7owlPWJz16NbHjXogfX\" href=\"https://www.thesaurus.com/browse/take-a-gander\">take a gander</a>, </span><span><a class=\"u7owlPWJz16NbHjXogfX\" href=\"https://www.thesaurus.com/browse/take-in\">take in</a>, </span><span><a class=\"u7owlPWJz16NbHjXogfX\" href=\"https://www.thesaurus.com/browse/take-notice\">take notice</a></span></p></div></div>,\n",
       " <div class=\"QXhVD4zXdAnJKNytqXmK\"><div class=\"fltPJVdHfRCxJJVuGX8J\"><p class=\"wRiDLzD17ooqYbL7AewD\">Strongest matches</p><p class=\"U0upYYdkCP4fWHhHZcgE\"><span><a class=\"Bf5RRqL5MiAp4gB8wAZa\" href=\"https://www.thesaurus.com/browse/attend\">attend</a>, </span><span><a class=\"Bf5RRqL5MiAp4gB8wAZa\" href=\"https://www.thesaurus.com/browse/guard\">guard</a>, </span><span><a class=\"Bf5RRqL5MiAp4gB8wAZa\" href=\"https://www.thesaurus.com/browse/protect\">protect</a>, </span><span><a class=\"Bf5RRqL5MiAp4gB8wAZa\" href=\"https://www.thesaurus.com/browse/take-care-of\">take care of</a>, </span><span><a class=\"Bf5RRqL5MiAp4gB8wAZa\" href=\"https://www.thesaurus.com/browse/wait\">wait</a></span></p></div><div class=\"fltPJVdHfRCxJJVuGX8J\"><p class=\"wRiDLzD17ooqYbL7AewD\">Strong matches</p><p class=\"U0upYYdkCP4fWHhHZcgE\"><span><a class=\"CPTwwN0qNO__USQgCKp8\" href=\"https://www.thesaurus.com/browse/mind\">mind</a>, </span><span><a class=\"CPTwwN0qNO__USQgCKp8\" href=\"https://www.thesaurus.com/browse/oversee\">oversee</a>, </span><span><a class=\"CPTwwN0qNO__USQgCKp8\" href=\"https://www.thesaurus.com/browse/patrol\">patrol</a>, </span><span><a class=\"CPTwwN0qNO__USQgCKp8\" href=\"https://www.thesaurus.com/browse/police\">police</a>, </span><span><a class=\"CPTwwN0qNO__USQgCKp8\" href=\"https://www.thesaurus.com/browse/superintend\">superintend</a>, </span><span><a class=\"CPTwwN0qNO__USQgCKp8\" href=\"https://www.thesaurus.com/browse/tend\">tend</a>, </span><span><a class=\"CPTwwN0qNO__USQgCKp8\" href=\"https://www.thesaurus.com/browse/watch-over\">watch over</a></span></p></div><div class=\"fltPJVdHfRCxJJVuGX8J\"><p class=\"wRiDLzD17ooqYbL7AewD\">Weak matches</p><p class=\"U0upYYdkCP4fWHhHZcgE\"><span><a class=\"u7owlPWJz16NbHjXogfX\" href=\"https://www.thesaurus.com/browse/be-on-alert\">be on alert</a>, </span><span><a class=\"u7owlPWJz16NbHjXogfX\" href=\"https://www.thesaurus.com/browse/be-on-the-lookout\">be on the lookout</a>, </span><span><a class=\"u7owlPWJz16NbHjXogfX\" href=\"https://www.thesaurus.com/browse/be-vigilant\">be vigilant</a>, </span><span><a class=\"u7owlPWJz16NbHjXogfX\" href=\"https://www.thesaurus.com/browse/be-wary\">be wary</a>, </span><span><a class=\"u7owlPWJz16NbHjXogfX\" href=\"https://www.thesaurus.com/browse/be-watchful\">be watchful</a>, </span><span><a class=\"u7owlPWJz16NbHjXogfX\" href=\"https://www.thesaurus.com/browse/care-for\">care for</a>, </span><span><a class=\"u7owlPWJz16NbHjXogfX\" href=\"https://www.thesaurus.com/browse/keep-an-eye-on\">keep an eye on</a>, </span><span><a class=\"u7owlPWJz16NbHjXogfX\" href=\"https://www.thesaurus.com/browse/keep-eyes-open\">keep eyes open</a>, </span><span><a class=\"u7owlPWJz16NbHjXogfX\" href=\"https://www.thesaurus.com/browse/keep-eyes-peeled\">keep eyes peeled</a>, </span><span><a class=\"u7owlPWJz16NbHjXogfX\" href=\"https://www.thesaurus.com/browse/keep-watch-over\">keep watch over</a>, </span><span><a class=\"u7owlPWJz16NbHjXogfX\" href=\"https://www.thesaurus.com/browse/look-after\">look after</a>, </span><span><a class=\"u7owlPWJz16NbHjXogfX\" href=\"https://www.thesaurus.com/browse/look-out\">look out</a>, </span><span><a class=\"u7owlPWJz16NbHjXogfX\" href=\"https://www.thesaurus.com/browse/pick-up-on\">pick up on</a>, </span><span><a class=\"u7owlPWJz16NbHjXogfX\" href=\"https://www.thesaurus.com/browse/ride-shotgun-for\">ride shotgun for</a>, </span><span><a class=\"u7owlPWJz16NbHjXogfX\" href=\"https://www.thesaurus.com/browse/take-heed\">take heed</a></span></p></div></div>]"
      ]
     },
     "execution_count": 56,
     "metadata": {},
     "output_type": "execute_result"
    }
   ],
   "source": [
    "words = soup.select(\"div.QXhVD4zXdAnJKNytqXmK\")\n",
    "words"
   ]
  },
  {
   "cell_type": "code",
   "execution_count": null,
   "id": "20acf1e7",
   "metadata": {},
   "outputs": [
    {
     "name": "stdout",
     "output_type": "stream",
     "text": [
      "9\n",
      "Found matching class: <a class=\"Bf5RRqL5MiAp4gB8wAZa\" href=\"https://www.thesaurus.com/browse/timepiece\">timepiece</a>\n",
      "26\n",
      "Found matching class: <a class=\"CPTwwN0qNO__USQgCKp8\" href=\"https://www.thesaurus.com/browse/alertness\">alertness</a>\n",
      "39\n",
      "Found matching class: <a class=\"Bf5RRqL5MiAp4gB8wAZa\" href=\"https://www.thesaurus.com/browse/attend\">attend</a>\n",
      "27\n",
      "Found matching class: <a class=\"Bf5RRqL5MiAp4gB8wAZa\" href=\"https://www.thesaurus.com/browse/attend\">attend</a>\n"
     ]
    }
   ],
   "source": [
    "for word in words:\n",
    "    print(len(word.select(\"a\")))\n",
    "    if (word.select(\"a\")[0][\"class\"] in [['Bf5RRqL5MiAp4gB8wAZa'],['CPTwwN0qNO__USQgCKp8']]):\n",
    "        print(\"Found matching class:\", word.select(\"a\")[0].get_text())"
   ]
  },
  {
   "cell_type": "code",
   "execution_count": 65,
   "id": "a1fa8ec7",
   "metadata": {},
   "outputs": [
    {
     "name": "stdout",
     "output_type": "stream",
     "text": [
      "Meaning: noun  as in clock worn on body\n",
      "Synonyms: timepiece, wristwatch, chronometer, stopwatch, ticker, timer, \n",
      "\n",
      "Meaning: noun  as in lookout\n",
      "Synonyms: alertness, attention, awareness, duty, eye, guard, hawk, heed, inspection, notice, observance, observation, patrol, picket, scrutiny, sentinel, sentry, supervision, surveillance, tab, tout, vigil, vigilance, watchfulness, \n",
      "\n",
      "Meaning: verb  as in look at\n",
      "Synonyms: attend, check out, examine, follow, listen, look, observe, regard, scan, scrutinize, see, stare, view, wait, case, concentrate, contemplate, eye, eyeball, focus, gaze, inspect, mark, mind, note, peer, pipe, rubberneck, scope, spy, \n",
      "\n",
      "Meaning: verb  as in look after; guard\n",
      "Synonyms: attend, guard, protect, take care of, wait, mind, oversee, patrol, police, superintend, tend, watch over, \n",
      "\n",
      "\n"
     ]
    }
   ],
   "source": [
    "word = \"watch\"\n",
    "url = f\"https://www.thesaurus.com/browse/{word}\"\n",
    "headers = {\n",
    "    \"User-Agent\": \"Mozilla/5.0\"\n",
    "}\n",
    "response = requests.get(url, headers=headers)\n",
    "\n",
    "if response.status_code != 200:\n",
    "    print(\"Không truy cập được trang!\")\n",
    "\n",
    "soup = BeautifulSoup(response.text, \"html.parser\")\n",
    "\n",
    "meaning = soup.select(\"div.tU3uvmy24AcyNXg1gHwf\")\n",
    "synonyms = soup.select(\"div.QXhVD4zXdAnJKNytqXmK\")\n",
    "\n",
    "context = \"\"\n",
    "for mean, syn in zip(meaning, synonyms):\n",
    "    context += \"Meaning: \" + mean.select(\"div.MzPkuB_wA1zt60pMer_S p\")[0].get_text() + \"\\n\"\n",
    "    context += \"Synonyms: \"\n",
    "    for word in syn.select(\"a\"):\n",
    "        if word[\"class\"] in [['Bf5RRqL5MiAp4gB8wAZa'],['CPTwwN0qNO__USQgCKp8']]:\n",
    "            context += word.get_text() + \", \"\n",
    "    context += \"\\n\\n\"\n",
    "print(context)"
   ]
  },
  {
   "cell_type": "code",
   "execution_count": null,
   "id": "093ccf5c",
   "metadata": {},
   "outputs": [],
   "source": []
  }
 ],
 "metadata": {
  "kernelspec": {
   "display_name": "Python 3",
   "language": "python",
   "name": "python3"
  },
  "language_info": {
   "codemirror_mode": {
    "name": "ipython",
    "version": 3
   },
   "file_extension": ".py",
   "mimetype": "text/x-python",
   "name": "python",
   "nbconvert_exporter": "python",
   "pygments_lexer": "ipython3",
   "version": "3.12.3"
  }
 },
 "nbformat": 4,
 "nbformat_minor": 5
}
